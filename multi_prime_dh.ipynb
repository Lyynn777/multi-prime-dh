{
  "nbformat": 4,
  "nbformat_minor": 0,
  "metadata": {
    "colab": {
      "provenance": [],
      "authorship_tag": "ABX9TyO32pIGDpUVRmDpxTDMkH9g",
      "include_colab_link": true
    },
    "kernelspec": {
      "name": "python3",
      "display_name": "Python 3"
    },
    "language_info": {
      "name": "python"
    }
  },
  "cells": [
    {
      "cell_type": "markdown",
      "metadata": {
        "id": "view-in-github",
        "colab_type": "text"
      },
      "source": [
        "<a href=\"https://colab.research.google.com/github/Lyynn777/multi-prime-dh/blob/main/Copy_of_multi_prime_dh.ipynb\" target=\"_parent\"><img src=\"https://colab.research.google.com/assets/colab-badge.svg\" alt=\"Open In Colab\"/></a>"
      ]
    },
    {
      "cell_type": "markdown",
      "source": [
        "This cell installs the sympy library, which is used to generate cryptographically secure prime numbers.\n"
      ],
      "metadata": {
        "id": "mnQmWZzi6vkY"
      }
    },
    {
      "cell_type": "code",
      "execution_count": 1,
      "metadata": {
        "colab": {
          "base_uri": "https://localhost:8080/"
        },
        "id": "hTcVHW2LS5pO",
        "outputId": "c1c19ee8-0060-494c-fcf0-2a225b54790e"
      },
      "outputs": [
        {
          "output_type": "stream",
          "name": "stdout",
          "text": [
            "Requirement already satisfied: sympy in /usr/local/lib/python3.12/dist-packages (1.13.3)\n",
            "Requirement already satisfied: mpmath<1.4,>=1.1.0 in /usr/local/lib/python3.12/dist-packages (from sympy) (1.3.0)\n"
          ]
        }
      ],
      "source": [
        "!pip install sympy"
      ]
    },
    {
      "cell_type": "markdown",
      "source": [
        "**Generate Primes**\n",
        "\n",
        "This cell defines a function to generate a list of prime numbers of specified bit length and displays them along with their bit lengths."
      ],
      "metadata": {
        "id": "4uwIrRD96x6E"
      }
    },
    {
      "cell_type": "code",
      "source": [
        "from sympy import randprime\n",
        "\n",
        "# Function to generate primes\n",
        "def generate_primes(count, bits):\n",
        "    lower = 2**(bits - 1)\n",
        "    upper = 2**bits - 1\n",
        "    primes = [randprime(lower, upper) for _ in range(count)]\n",
        "    return primes\n",
        "\n",
        "# Example usage\n",
        "num_primes = 5    # Number of primes\n",
        "bit_length = 512  # Bit length of each prime\n",
        "\n",
        "primes = generate_primes(num_primes, bit_length)\n",
        "\n",
        "# Display generated primes\n",
        "for i, p in enumerate(primes):\n",
        "    print(f\"Prime {i+1}:\\n{p}\\n\")\n",
        "\n",
        "# Display bit length of each prime\n",
        "for i, p in enumerate(primes):\n",
        "    print(f\"Prime {i+1} has {p.bit_length()} bits\")\n"
      ],
      "metadata": {
        "colab": {
          "base_uri": "https://localhost:8080/"
        },
        "id": "rOHAAnlmTCNR",
        "outputId": "2d0b97c4-54e1-46c3-d643-80b83259ddac"
      },
      "execution_count": 2,
      "outputs": [
        {
          "output_type": "stream",
          "name": "stdout",
          "text": [
            "Prime 1:\n",
            "13210161413399591436851368258910194460970501700991885747692506314411475470876268104583981957305292775622843562637219563943748667419303022863382499413772717\n",
            "\n",
            "Prime 2:\n",
            "10057384895948981784791075192233495479779053763798583493980818910281378664202413177874536071210370715462264529038589371716213326391838386158171016946312603\n",
            "\n",
            "Prime 3:\n",
            "10800809307006828424590056687163311063423072752349537175855266276585097061513770173704654170371477043525955969740701001092408898763301106023783207621891993\n",
            "\n",
            "Prime 4:\n",
            "9155723347407570801105945452087340111155695991995099121354327003500569201407306138532756525104983296250566662702674230731659668179668826575632713677324969\n",
            "\n",
            "Prime 5:\n",
            "9598578333295263994577366869897237959911312289716553129306150142895579125657207775370142854718879687042205863403898210540079251454850763454832548778626493\n",
            "\n",
            "Prime 1 has 512 bits\n",
            "Prime 2 has 512 bits\n",
            "Prime 3 has 512 bits\n",
            "Prime 4 has 512 bits\n",
            "Prime 5 has 512 bits\n"
          ]
        }
      ]
    },
    {
      "cell_type": "markdown",
      "source": [
        "**Key Generation for Alice and Bob**\n",
        "\n",
        "This cell generates private and public keys for Alice and Bob using the generated primes and displays their public keys."
      ],
      "metadata": {
        "id": "kmkwxh2p62nf"
      }
    },
    {
      "cell_type": "code",
      "source": [
        "import secrets\n",
        "\n",
        "# Function to generate private and public keys\n",
        "def generate_keys(primes):\n",
        "    private_keys = []\n",
        "    public_keys = []\n",
        "    for p in primes:\n",
        "        g = 2  # Using 2 as the generator\n",
        "        private = secrets.randbelow(p - 2) + 1  # Random private key: 1 < key < p-1\n",
        "        public = pow(g, private, p)  # Compute public key\n",
        "        private_keys.append(private)\n",
        "        public_keys.append(public)\n",
        "    return private_keys, public_keys\n",
        "\n",
        "# Example: Generate keys for Alice and Bob\n",
        "alice_private, alice_public = generate_keys(primes)\n",
        "bob_private, bob_public = generate_keys(primes)\n",
        "\n",
        "# Display Alice's public keys\n",
        "print(\"Alice's Public Keys:\")\n",
        "for i, key in enumerate(alice_public):\n",
        "    print(f\"Prime {i+1}: {key}\")\n",
        "\n",
        "# Display Bob's public keys\n",
        "print(\"\\nBob's Public Keys:\")\n",
        "for i, key in enumerate(bob_public):\n",
        "    print(f\"Prime {i+1}: {key}\")\n"
      ],
      "metadata": {
        "colab": {
          "base_uri": "https://localhost:8080/"
        },
        "id": "c-VKZMQ3TDx9",
        "outputId": "9c9ff94e-e25a-40a9-aecf-7658eb02fd6e"
      },
      "execution_count": 3,
      "outputs": [
        {
          "output_type": "stream",
          "name": "stdout",
          "text": [
            "Alice's Public Keys:\n",
            "Prime 1: 3726756553369757123063308158170226527486427607062786780735914554956335765771042856836810234532331213151478128338054653794687590055859559432010690690297546\n",
            "Prime 2: 5028048136400943260448717704278767157352473230338944180533300856623852474457245298505028217979693853972616738833971603695949507215354972017569016805241186\n",
            "Prime 3: 8181975030686257450898049443773672820659927806577110974015521909484463616615850898261389659054011616441434279572802767024304193253680673571663440073871603\n",
            "Prime 4: 1467050111781237462707360469966462751613177704589918940243511263769821407852578549333302855713857108667271972542641336820514992393373427033808274829390663\n",
            "Prime 5: 2763740359558702799752121173006872025638608049101115504003607408720546130946358403359694973437926497330354424948207310646619840501352122941681360403001454\n",
            "\n",
            "Bob's Public Keys:\n",
            "Prime 1: 2840233372469978804405087143775523627582290396291042507942559853604670007616606934944326663186482928683663362661818990591230829425457451302343318492476403\n",
            "Prime 2: 1608561650021430042648290743278887731304553657532619390018953327131068149353382730060957467037679929007264337291741420375538231306612429252071663689284126\n",
            "Prime 3: 396853098883759830750535671021214640321746555174174019896996423509059214274338380510630056639835126506308101664127606367132591887007399249933180282855288\n",
            "Prime 4: 8765074266310573373746375200213638332388406359175747015821884293279013364019526511598502637103097109758660191807733603199127600321453515026769342423151485\n",
            "Prime 5: 8494412377676875850318571022099201358998462396690342460645185002748325493286747548279775565136391655590792405718296495545536885559996233641191011642447332\n"
          ]
        }
      ]
    },
    {
      "cell_type": "markdown",
      "source": [
        "**Compute Shared Keys**\n",
        "\n",
        "This cell computes the shared keys for Alice and Bob using each prime and displays the length of each shared key."
      ],
      "metadata": {
        "id": "kB9DO2ce66g3"
      }
    },
    {
      "cell_type": "code",
      "source": [
        "# Function to compute shared keys\n",
        "def compute_shared_keys(private_keys, other_public_keys, primes):\n",
        "    shared_keys = []\n",
        "    for i in range(len(primes)):\n",
        "        key = pow(other_public_keys[i], private_keys[i], primes[i])\n",
        "        # Convert to bytes for later combination\n",
        "        key_bytes = key.to_bytes((key.bit_length() + 7) // 8, 'big')\n",
        "        shared_keys.append(key_bytes)\n",
        "    return shared_keys\n",
        "\n",
        "# Compute shared keys\n",
        "alice_shared = compute_shared_keys(alice_private, bob_public, primes)\n",
        "bob_shared = compute_shared_keys(bob_private, alice_public, primes)\n",
        "\n",
        "# Verify that each key matches in length (they will be combined later)\n",
        "for i in range(len(primes)):\n",
        "    print(f\"Shared Key {i+1} length: {len(alice_shared[i])} bytes\")\n"
      ],
      "metadata": {
        "colab": {
          "base_uri": "https://localhost:8080/"
        },
        "id": "r96_B6bcTUCz",
        "outputId": "901c550f-7d0d-4d96-849f-997d65871f0c"
      },
      "execution_count": 4,
      "outputs": [
        {
          "output_type": "stream",
          "name": "stdout",
          "text": [
            "Shared Key 1 length: 64 bytes\n",
            "Shared Key 2 length: 64 bytes\n",
            "Shared Key 3 length: 64 bytes\n",
            "Shared Key 4 length: 64 bytes\n",
            "Shared Key 5 length: 64 bytes\n"
          ]
        }
      ]
    },
    {
      "cell_type": "markdown",
      "source": [
        "**Combine Shared Keys**\n",
        "\n",
        "This cell concatenates the shared keys and applies SHA-256 hashing to derive the final shared secret key for both Alice and Bob, and verifies that both keys match."
      ],
      "metadata": {
        "id": "_z3U-8GV6_vA"
      }
    },
    {
      "cell_type": "code",
      "source": [
        "import hashlib\n",
        "\n",
        "# Function to combine shared keys\n",
        "def combine_shared_keys(shared_keys_list):\n",
        "    combined = b''.join(shared_keys_list)  # Concatenate all keys\n",
        "    final_key = hashlib.sha256(combined).hexdigest()  # Hash with SHA-256\n",
        "    return final_key\n",
        "\n",
        "# Combine Alice's and Bob's shared keys\n",
        "alice_final_key = combine_shared_keys(alice_shared)\n",
        "bob_final_key = combine_shared_keys(bob_shared)\n",
        "\n",
        "# Verify that both are identical\n",
        "print(\"Alice's Final Key:\", alice_final_key)\n",
        "print(\"Bob's Final Key  :\", bob_final_key)\n",
        "print(\"Keys Match?      :\", alice_final_key == bob_final_key)\n"
      ],
      "metadata": {
        "colab": {
          "base_uri": "https://localhost:8080/"
        },
        "id": "UkQ2OmorTZ22",
        "outputId": "767a77bd-8394-4bf7-b159-cc2105381af6"
      },
      "execution_count": 5,
      "outputs": [
        {
          "output_type": "stream",
          "name": "stdout",
          "text": [
            "Alice's Final Key: 3ae3a9a02e772f8a94d86b47d39fa505be7aa15921b5f0065f5f5bbfe6c7f6a4\n",
            "Bob's Final Key  : 3ae3a9a02e772f8a94d86b47d39fa505be7aa15921b5f0065f5f5bbfe6c7f6a4\n",
            "Keys Match?      : True\n"
          ]
        }
      ]
    },
    {
      "cell_type": "markdown",
      "source": [
        "**Benchmarking Multi-Prime vs Single-Prime**\n",
        "\n",
        "This cell compares the execution time of multi-prime Diffie-Hellman against single-prime Diffie-Hellman using equivalent total bits."
      ],
      "metadata": {
        "id": "81Vshs4n7DN4"
      }
    },
    {
      "cell_type": "code",
      "source": [
        "import time\n",
        "from sympy import nextprime\n",
        "\n",
        "# Function for single-prime Diffie-Hellman\n",
        "def single_prime_dh(total_bits):\n",
        "    p = nextprime(2**(total_bits-1))  # Large single prime\n",
        "    g = 2\n",
        "    # Random private keys\n",
        "    alice_private = secrets.randbelow(p - 2) + 1\n",
        "    bob_private   = secrets.randbelow(p - 2) + 1\n",
        "    # Public keys\n",
        "    alice_public = pow(g, alice_private, p)\n",
        "    bob_public   = pow(g, bob_private, p)\n",
        "    # Shared secret\n",
        "    alice_shared = pow(bob_public, alice_private, p)\n",
        "    bob_shared   = pow(alice_public, bob_private, p)\n",
        "    return alice_shared == bob_shared  # Returns True if keys match\n",
        "\n",
        "# Multi-prime timing\n",
        "start = time.time()\n",
        "# Reuse multi-prime code from Module 3\n",
        "alice_private, alice_public = generate_keys(primes)\n",
        "bob_private, bob_public = generate_keys(primes)\n",
        "alice_shared = compute_shared_keys(alice_private, bob_public, primes)\n",
        "bob_shared   = compute_shared_keys(bob_private, alice_public, primes)\n",
        "alice_final_key = combine_shared_keys(alice_shared)\n",
        "bob_final_key   = combine_shared_keys(bob_shared)\n",
        "end = time.time()\n",
        "multi_time = end - start\n",
        "print(\"Multi-Prime DH Execution Time:\", multi_time, \"seconds\")\n",
        "\n",
        "# Single-prime timing\n",
        "total_bits = 512 * len(primes)  # Same total bits as multi-prime\n",
        "start = time.time()\n",
        "single_prime_dh(total_bits)\n",
        "end = time.time()\n",
        "single_time = end - start\n",
        "print(\"Single-Prime DH Execution Time:\", single_time, \"seconds\")\n"
      ],
      "metadata": {
        "colab": {
          "base_uri": "https://localhost:8080/"
        },
        "id": "m9JCXUDzTjlD",
        "outputId": "64e317e3-2cf7-4356-af14-10ff3300bab9"
      },
      "execution_count": 6,
      "outputs": [
        {
          "output_type": "stream",
          "name": "stdout",
          "text": [
            "Multi-Prime DH Execution Time: 0.018519878387451172 seconds\n",
            "Single-Prime DH Execution Time: 15.894382238388062 seconds\n"
          ]
        }
      ]
    },
    {
      "cell_type": "markdown",
      "source": [
        "**Plotting the Performance Comparison**\n",
        "\n",
        "This cell visualizes the execution time of the two methods using a bar chart for easier comparison."
      ],
      "metadata": {
        "id": "xLG5WVvb7J41"
      }
    },
    {
      "cell_type": "code",
      "source": [
        "import matplotlib.pyplot as plt\n",
        "\n",
        "# Data\n",
        "methods = ['Multi-Prime DH', 'Single-Prime DH']\n",
        "times = [multi_time, single_time]\n",
        "\n",
        "# Plot\n",
        "plt.figure(figsize=(8,5))\n",
        "bars = plt.bar(methods, times, color=['skyblue', 'salmon'])\n",
        "plt.ylabel(\"Execution Time (seconds)\")\n",
        "plt.title(\"Performance Comparison: Multi-Prime vs Single-Prime DH\")\n",
        "\n",
        "# Add values on top of bars\n",
        "for bar in bars:\n",
        "    yval = bar.get_height()\n",
        "    plt.text(bar.get_x() + bar.get_width()/2, yval + 0.5, f\"{yval:.3f}\", ha='center', va='bottom')\n",
        "\n",
        "plt.show()\n"
      ],
      "metadata": {
        "colab": {
          "base_uri": "https://localhost:8080/",
          "height": 468
        },
        "id": "9aEv_Q8kTvFs",
        "outputId": "87d74a62-8e6a-4eb3-8ecf-6cad7d86c706"
      },
      "execution_count": 7,
      "outputs": [
        {
          "output_type": "display_data",
          "data": {
            "text/plain": [
              "<Figure size 800x500 with 1 Axes>"
            ],
            "image/png": "[encoded data removed]"
          },
          "metadata": {}
        }
      ]
    },
    {
      "cell_type": "markdown",
      "source": [
        "**Simulating Network Exchange**\n",
        "\n",
        "This cell simulates how Alice and Bob exchange public keys over a network and verifies that both sides compute the same final shared key."
      ],
      "metadata": {
        "id": "e0UI-SV07Ncg"
      }
    },
    {
      "cell_type": "code",
      "source": [
        "# Simulate network exchange\n",
        "def network_exchange(alice_pub, bob_pub):\n",
        "    # Normally, these would be sent over a network\n",
        "    alice_received = bob_pub\n",
        "    bob_received   = alice_pub\n",
        "    return alice_received, bob_received\n",
        "\n",
        "# Simulate exchange\n",
        "alice_received, bob_received = network_exchange(alice_public, bob_public)\n",
        "\n",
        "# Compute shared keys using received keys\n",
        "alice_shared_network = compute_shared_keys(alice_private, alice_received, primes)\n",
        "bob_shared_network   = compute_shared_keys(bob_private, bob_received, primes)\n",
        "\n",
        "# Combine to final shared secret\n",
        "alice_final_network = combine_shared_keys(alice_shared_network)\n",
        "bob_final_network   = combine_shared_keys(bob_shared_network)\n",
        "\n",
        "print(\"Final Shared Key (Network Simulation):\")\n",
        "print(alice_final_network)\n",
        "print(\"Keys Match? :\", alice_final_network == bob_final_network)\n"
      ],
      "metadata": {
        "colab": {
          "base_uri": "https://localhost:8080/"
        },
        "id": "o2ZvhyOXUHC7",
        "outputId": "7484a9ad-67bd-46d9-d55c-eb86e1cf2c53"
      },
      "execution_count": 8,
      "outputs": [
        {
          "output_type": "stream",
          "name": "stdout",
          "text": [
            "Final Shared Key (Network Simulation):\n",
            "7a6781d67e593319eb175fd2848a42f5811fa7d310b7d568a85966c927e8f4dd\n",
            "Keys Match? : True\n"
          ]
        }
      ]
    },
    {
      "cell_type": "markdown",
      "source": [
        "**Encrypt/Decrypt Message**\n",
        "\n",
        "This cell demonstrates how the shared key can be used to encrypt and decrypt a message using AES encryption."
      ],
      "metadata": {
        "id": "Oq2xjS2J7Ry5"
      }
    },
    {
      "cell_type": "code",
      "source": [
        "!pip install pycryptodome\n"
      ],
      "metadata": {
        "colab": {
          "base_uri": "https://localhost:8080/"
        },
        "id": "rxnzRwg1UMTK",
        "outputId": "80152656-8d51-406d-bd59-94ce6304ebc3"
      },
      "execution_count": 9,
      "outputs": [
        {
          "output_type": "stream",
          "name": "stdout",
          "text": [
            "Collecting pycryptodome\n",
            "  Downloading pycryptodome-3.23.0-cp37-abi3-manylinux_2_17_x86_64.manylinux2014_x86_64.whl.metadata (3.4 kB)\n",
            "Downloading pycryptodome-3.23.0-cp37-abi3-manylinux_2_17_x86_64.manylinux2014_x86_64.whl (2.3 MB)\n",
            "\u001b[?25l   \u001b[90m━━━━━━━━━━━━━━━━━━━━━━━━━━━━━━━━━━━━━━━━\u001b[0m \u001b[32m0.0/2.3 MB\u001b[0m \u001b[31m?\u001b[0m eta \u001b[36m-:--:--\u001b[0m\r\u001b[2K   \u001b[91m━\u001b[0m\u001b[91m╸\u001b[0m\u001b[90m━━━━━━━━━━━━━━━━━━━━━━━━━━━━━━━━━━━━━━\u001b[0m \u001b[32m0.1/2.3 MB\u001b[0m \u001b[31m3.3 MB/s\u001b[0m eta \u001b[36m0:00:01\u001b[0m\r\u001b[2K   \u001b[91m━━━━━━\u001b[0m\u001b[91m╸\u001b[0m\u001b[90m━━━━━━━━━━━━━━━━━━━━━━━━━━━━━━━━━\u001b[0m \u001b[32m0.4/2.3 MB\u001b[0m \u001b[31m5.6 MB/s\u001b[0m eta \u001b[36m0:00:01\u001b[0m\r\u001b[2K   \u001b[91m━━━━━━━━━━━━━━━━━━━━━\u001b[0m\u001b[90m╺\u001b[0m\u001b[90m━━━━━━━━━━━━━━━━━━\u001b[0m \u001b[32m1.2/2.3 MB\u001b[0m \u001b[31m12.3 MB/s\u001b[0m eta \u001b[36m0:00:01\u001b[0m\r\u001b[2K   \u001b[90m━━━━━━━━━━━━━━━━━━━━━━━━━━━━━━━━━━━━━━━━\u001b[0m \u001b[32m2.3/2.3 MB\u001b[0m \u001b[31m16.6 MB/s\u001b[0m eta \u001b[36m0:00:00\u001b[0m\n",
            "\u001b[?25hInstalling collected packages: pycryptodome\n",
            "Successfully installed pycryptodome-3.23.0\n"
          ]
        }
      ]
    },
    {
      "cell_type": "code",
      "source": [
        "from Crypto.Cipher import AES\n",
        "from Crypto.Util.Padding import pad, unpad\n",
        "import hashlib\n",
        "\n",
        "# Derive AES key from shared secret (use 32 bytes for AES-256)\n",
        "aes_key = hashlib.sha256(alice_final_network.encode()).digest()\n",
        "\n",
        "# Example message\n",
        "message = b\"Hello, this is a secret message!\"\n",
        "\n",
        "# Encrypt\n",
        "cipher = AES.new(aes_key, AES.MODE_CBC)\n",
        "ct_bytes = cipher.encrypt(pad(message, AES.block_size))\n",
        "iv = cipher.iv\n",
        "\n",
        "# Decrypt\n",
        "cipher_dec = AES.new(aes_key, AES.MODE_CBC, iv)\n",
        "pt = unpad(cipher_dec.decrypt(ct_bytes), AES.block_size)\n",
        "\n",
        "print(\"Original Message:\", message)\n",
        "print(\"Decrypted Message:\", pt)\n"
      ],
      "metadata": {
        "colab": {
          "base_uri": "https://localhost:8080/"
        },
        "id": "hGSsPbQxUNPv",
        "outputId": "70e08f4b-2df8-40ec-992b-9c8571cfd91d"
      },
      "execution_count": 10,
      "outputs": [
        {
          "output_type": "stream",
          "name": "stdout",
          "text": [
            "Original Message: b'Hello, this is a secret message!'\n",
            "Decrypted Message: b'Hello, this is a secret message!'\n"
          ]
        }
      ]
    },
    {
      "cell_type": "markdown",
      "source": [
        "**Install Graphviz**\n",
        "\n",
        "This cell installs graphviz to visualize the flow of the multi-prime Diffie-Hellman protocol."
      ],
      "metadata": {
        "id": "oiQN5I1W7v2y"
      }
    },
    {
      "cell_type": "code",
      "source": [
        "!apt-get install graphviz\n",
        "!pip install graphviz\n"
      ],
      "metadata": {
        "colab": {
          "base_uri": "https://localhost:8080/"
        },
        "id": "4bGPMeKpUcJr",
        "outputId": "7a18a642-2f78-4fe6-a48c-62df18715b48"
      },
      "execution_count": 11,
      "outputs": [
        {
          "output_type": "stream",
          "name": "stdout",
          "text": [
            "Reading package lists... Done\n",
            "Building dependency tree... Done\n",
            "Reading state information... Done\n",
            "graphviz is already the newest version (2.42.2-6ubuntu0.1).\n",
            "0 upgraded, 0 newly installed, 0 to remove and 38 not upgraded.\n",
            "Requirement already satisfied: graphviz in /usr/local/lib/python3.12/dist-packages (0.21)\n"
          ]
        }
      ]
    },
    {
      "cell_type": "markdown",
      "source": [
        "**Create Flowchart Diagram**\n",
        "\n",
        "This cell creates and displays a flowchart that illustrates the stages of the multi-prime Diffie-Hellman process."
      ],
      "metadata": {
        "id": "o8JMDl3w71mt"
      }
    },
    {
      "cell_type": "code",
      "source": [
        "from graphviz import Digraph\n",
        "\n",
        "dot = Digraph(comment='Multi-Prime Diffie-Hellman')\n",
        "\n",
        "# Nodes\n",
        "dot.node('A', 'Prime Generation')\n",
        "dot.node('B', 'Key Generation (Alice & Bob)')\n",
        "dot.node('C', 'Network Exchange of Public Keys')\n",
        "dot.node('D', 'Compute Shared Keys')\n",
        "dot.node('E', 'Combine Keys to Final Secret')\n",
        "dot.node('F', 'Encrypt/Decrypt Message')\n",
        "\n",
        "# Edges\n",
        "dot.edges(['AB', 'BC', 'CD', 'DE', 'EF'])\n",
        "\n",
        "# Display the graph\n",
        "dot.render('multi_prime_dh_flowchart', format='png', cleanup=True)\n",
        "from IPython.display import Image\n",
        "Image('multi_prime_dh_flowchart.png')\n"
      ],
      "metadata": {
        "colab": {
          "base_uri": "https://localhost:8080/",
          "height": 556
        },
        "id": "-u5NXthQUe3Y",
        "outputId": "7bd7852f-3f73-4177-be85-033305b3686f"
      },
      "execution_count": 12,
      "outputs": [
        {
          "output_type": "execute_result",
          "data": {
            "image/png": "[encoded data removed]",
            "text/plain": [
              "<IPython.core.display.Image object>"
            ]
          },
          "metadata": {},
          "execution_count": 12
        }
      ]
    }
  ]
}
