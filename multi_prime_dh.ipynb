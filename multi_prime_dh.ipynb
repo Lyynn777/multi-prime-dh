{
  "cells": [
    {
      "cell_type": "markdown",
      "metadata": {
        "id": "mnQmWZzi6vkY"
      },
      "source": [
        "This cell installs the sympy library, which is used to generate cryptographically secure prime numbers.\n"
      ]
    },
    {
      "cell_type": "code",
      "execution_count": null,
      "metadata": {
        "colab": {
          "base_uri": "https://localhost:8080/"
        },
        "id": "hTcVHW2LS5pO",
        "outputId": "f1b747b2-8242-4e6d-ebcc-dc5a912dffaa"
      },
      "outputs": [
        {
          "name": "stdout",
          "output_type": "stream",
          "text": [
            "Requirement already satisfied: sympy in /usr/local/lib/python3.12/dist-packages (1.13.3)\n",
            "Requirement already satisfied: mpmath<1.4,>=1.1.0 in /usr/local/lib/python3.12/dist-packages (from sympy) (1.3.0)\n"
          ]
        }
      ],
      "source": [
        "!pip install sympy"
      ]
    },
    {
      "cell_type": "markdown",
      "metadata": {
        "id": "4uwIrRD96x6E"
      },
      "source": [
        "**Generate Primes**\n",
        "\n",
        "This cell defines a function to generate a list of prime numbers of specified bit length and displays them along with their bit lengths."
      ]
    },
    {
      "cell_type": "code",
      "execution_count": null,
      "metadata": {
        "colab": {
          "base_uri": "https://localhost:8080/"
        },
        "id": "rOHAAnlmTCNR",
        "outputId": "9af46068-29e3-45e1-ba34-3711b70c8f2e"
      },
      "outputs": [
        {
          "name": "stdout",
          "output_type": "stream",
          "text": [
            "Prime 1:\n",
            "9040837347252222795007968044011690957539865918721736472811731533143928750736963061378144494244556863762487121226229154764544716515486842654086359413585831\n",
            "\n",
            "Prime 2:\n",
            "11996791937515494361766161404765837918843163690239771585685613900735658255684165816297773176590518602267683032179469135419318860809395893536548495355287637\n",
            "\n",
            "Prime 3:\n",
            "8923467872542516765886762448229888377759506066876193777065365935762892128156390296286128722179989864614176189352416842218315859605471184697739278540337711\n",
            "\n",
            "Prime 4:\n",
            "8852469101974510446947498241289955474650961742740122815276740816617272108524151030779944506066424489102993514784887245857475833938586614327602748590016417\n",
            "\n",
            "Prime 5:\n",
            "8020457168746923915356383974955365424762351922715149243575888658302591786290169370030203268948514559638692749279910626361851661987835373848800655209082511\n",
            "\n",
            "Prime 1 has 512 bits\n",
            "Prime 2 has 512 bits\n",
            "Prime 3 has 512 bits\n",
            "Prime 4 has 512 bits\n",
            "Prime 5 has 512 bits\n"
          ]
        }
      ],
      "source": [
        "from sympy import randprime\n",
        "\n",
        "# Function to generate primes\n",
        "def generate_primes(count, bits):\n",
        "    lower = 2**(bits - 1)\n",
        "    upper = 2**bits - 1\n",
        "    primes = [randprime(lower, upper) for _ in range(count)]\n",
        "    return primes\n",
        "\n",
        "# Example usage\n",
        "num_primes = 5    # Number of primes\n",
        "bit_length = 512  # Bit length of each prime\n",
        "\n",
        "primes = generate_primes(num_primes, bit_length)\n",
        "\n",
        "# Display generated primes\n",
        "for i, p in enumerate(primes):\n",
        "    print(f\"Prime {i+1}:\\n{p}\\n\")\n",
        "\n",
        "# Display bit length of each prime\n",
        "for i, p in enumerate(primes):\n",
        "    print(f\"Prime {i+1} has {p.bit_length()} bits\")\n"
      ]
    },
    {
      "cell_type": "markdown",
      "metadata": {
        "id": "kmkwxh2p62nf"
      },
      "source": [
        "**Key Generation for Alice and Bob**\n",
        "\n",
        "This cell generates private and public keys for Alice and Bob using the generated primes and displays their public keys."
      ]
    },
    {
      "cell_type": "code",
      "execution_count": null,
      "metadata": {
        "colab": {
          "base_uri": "https://localhost:8080/"
        },
        "id": "c-VKZMQ3TDx9",
        "outputId": "07416b11-f19d-477c-fd63-f7d35b18b9c9"
      },
      "outputs": [
        {
          "name": "stdout",
          "output_type": "stream",
          "text": [
            "Alice's Public Keys:\n",
            "Prime 1: 3595656241200604840821768180805583075946069750554269939180657750458151802416139280214322273436354213079961608072012050206931676013609005518380276744259148\n",
            "Prime 2: 2667139517768517767854702719806093587611602247044003548289036288795927088388703353803349378046252389981581833884825015589603395501582619554788464733226267\n",
            "Prime 3: 3920393486594660059538217210226534920376617583433064440210378298263761001726329086752801222482272007415725741577083968708306043902672303473416670960977914\n",
            "Prime 4: 3966199173542262053587680877887592035061016788608484746831990297607519242802725224619678635702326916053553298965929381362247806886746649187004327947470404\n",
            "Prime 5: 6465332073642779418015049322083307010656586771925605249934578007936162938493197283502545389487381099956678576297923127424325795428977563919804538689099687\n",
            "\n",
            "Bob's Public Keys:\n",
            "Prime 1: 1513740057590727909106882806214258186100182919399219785761823822896213873093365308789258852266387291647297389139463467215354324669140728099067813284770853\n",
            "Prime 2: 9167995238932163317693212870262557070307268225585787289543308387752278892246219289156754566615493740116031923457442005667731166989254166403913266333962356\n",
            "Prime 3: 6808740503626523854909729667420316451141701086748678915954726464344749860096335167369091602178271157960218083163266937411231674684543492464613592427689724\n",
            "Prime 4: 7909991616274738700647982359011669019076872845408744048698452862147313500427608482284852083968616540832358945176147432355536584382964106796800218865238460\n",
            "Prime 5: 2186231131802836257475636820187398387412786155470815719240488509870994685465986221795090329597781745559059767666887941047419781902160600634801838435667671\n"
          ]
        }
      ],
      "source": [
        "import secrets\n",
        "\n",
        "# Function to generate private and public keys\n",
        "def generate_keys(primes):\n",
        "    private_keys = []\n",
        "    public_keys = []\n",
        "    for p in primes:\n",
        "        g = 2  # Using 2 as the generator\n",
        "        private = secrets.randbelow(p - 2) + 1  # Random private key: 1 < key < p-1\n",
        "        public = pow(g, private, p)  # Compute public key\n",
        "        private_keys.append(private)\n",
        "        public_keys.append(public)\n",
        "    return private_keys, public_keys\n",
        "\n",
        "# Example: Generate keys for Alice and Bob\n",
        "alice_private, alice_public = generate_keys(primes)\n",
        "bob_private, bob_public = generate_keys(primes)\n",
        "\n",
        "# Display Alice's public keys\n",
        "print(\"Alice's Public Keys:\")\n",
        "for i, key in enumerate(alice_public):\n",
        "    print(f\"Prime {i+1}: {key}\")\n",
        "\n",
        "# Display Bob's public keys\n",
        "print(\"\\nBob's Public Keys:\")\n",
        "for i, key in enumerate(bob_public):\n",
        "    print(f\"Prime {i+1}: {key}\")\n"
      ]
    },
    {
      "cell_type": "markdown",
      "metadata": {
        "id": "kB9DO2ce66g3"
      },
      "source": [
        "**Compute Shared Keys**\n",
        "\n",
        "This cell computes the shared keys for Alice and Bob using each prime and displays the length of each shared key."
      ]
    },
    {
      "cell_type": "code",
      "execution_count": null,
      "metadata": {
        "colab": {
          "base_uri": "https://localhost:8080/"
        },
        "id": "r96_B6bcTUCz",
        "outputId": "dc2b1786-50cb-4487-f1ec-372448b5ed52"
      },
      "outputs": [
        {
          "name": "stdout",
          "output_type": "stream",
          "text": [
            "Shared Key 1 length: 64 bytes\n",
            "Shared Key 2 length: 64 bytes\n",
            "Shared Key 3 length: 64 bytes\n",
            "Shared Key 4 length: 64 bytes\n",
            "Shared Key 5 length: 64 bytes\n"
          ]
        }
      ],
      "source": [
        "# Function to compute shared keys\n",
        "def compute_shared_keys(private_keys, other_public_keys, primes):\n",
        "    shared_keys = []\n",
        "    for i in range(len(primes)):\n",
        "        key = pow(other_public_keys[i], private_keys[i], primes[i])\n",
        "        # Convert to bytes for later combination\n",
        "        key_bytes = key.to_bytes((key.bit_length() + 7) // 8, 'big')\n",
        "        shared_keys.append(key_bytes)\n",
        "    return shared_keys\n",
        "\n",
        "# Compute shared keys\n",
        "alice_shared = compute_shared_keys(alice_private, bob_public, primes)\n",
        "bob_shared = compute_shared_keys(bob_private, alice_public, primes)\n",
        "\n",
        "# Verify that each key matches in length (they will be combined later)\n",
        "for i in range(len(primes)):\n",
        "    print(f\"Shared Key {i+1} length: {len(alice_shared[i])} bytes\")\n"
      ]
    },
    {
      "cell_type": "markdown",
      "metadata": {
        "id": "_z3U-8GV6_vA"
      },
      "source": [
        "**Combine Shared Keys**\n",
        "\n",
        "This cell concatenates the shared keys and applies SHA-256 hashing to derive the final shared secret key for both Alice and Bob, and verifies that both keys match."
      ]
    },
    {
      "cell_type": "code",
      "execution_count": null,
      "metadata": {
        "colab": {
          "base_uri": "https://localhost:8080/"
        },
        "id": "UkQ2OmorTZ22",
        "outputId": "bd18c785-1c88-40d8-e9de-998a7e2f74ba"
      },
      "outputs": [
        {
          "name": "stdout",
          "output_type": "stream",
          "text": [
            "Alice's Final Key: 9b3345e8d63e21f5bcf5e9c6ecaedb96474bbe444bfa5835b24c8d326eec9d73\n",
            "Bob's Final Key  : 9b3345e8d63e21f5bcf5e9c6ecaedb96474bbe444bfa5835b24c8d326eec9d73\n",
            "Keys Match?      : True\n"
          ]
        }
      ],
      "source": [
        "import hashlib\n",
        "\n",
        "# Function to combine shared keys\n",
        "def combine_shared_keys(shared_keys_list):\n",
        "    combined = b''.join(shared_keys_list)  # Concatenate all keys\n",
        "    final_key = hashlib.sha256(combined).hexdigest()  # Hash with SHA-256\n",
        "    return final_key\n",
        "\n",
        "# Combine Alice's and Bob's shared keys\n",
        "alice_final_key = combine_shared_keys(alice_shared)\n",
        "bob_final_key = combine_shared_keys(bob_shared)\n",
        "\n",
        "# Verify that both are identical\n",
        "print(\"Alice's Final Key:\", alice_final_key)\n",
        "print(\"Bob's Final Key  :\", bob_final_key)\n",
        "print(\"Keys Match?      :\", alice_final_key == bob_final_key)\n"
      ]
    },
    {
      "cell_type": "markdown",
      "metadata": {
        "id": "81Vshs4n7DN4"
      },
      "source": [
        "**Benchmarking Multi-Prime vs Single-Prime**\n",
        "\n",
        "This cell compares the execution time of multi-prime Diffie-Hellman against single-prime Diffie-Hellman using equivalent total bits."
      ]
    },
    {
      "cell_type": "code",
      "execution_count": null,
      "metadata": {
        "colab": {
          "base_uri": "https://localhost:8080/"
        },
        "id": "m9JCXUDzTjlD",
        "outputId": "73a3bee5-f287-437c-baf0-28603bf50465"
      },
      "outputs": [
        {
          "name": "stdout",
          "output_type": "stream",
          "text": [
            "Multi-Prime DH Execution Time: 0.018764495849609375 seconds\n",
            "Single-Prime DH Execution Time: 15.303901672363281 seconds\n"
          ]
        }
      ],
      "source": [
        "import time\n",
        "from sympy import nextprime\n",
        "\n",
        "# Function for single-prime Diffie-Hellman\n",
        "def single_prime_dh(total_bits):\n",
        "    p = nextprime(2**(total_bits-1))  # Large single prime\n",
        "    g = 2\n",
        "    # Random private keys\n",
        "    alice_private = secrets.randbelow(p - 2) + 1\n",
        "    bob_private   = secrets.randbelow(p - 2) + 1\n",
        "    # Public keys\n",
        "    alice_public = pow(g, alice_private, p)\n",
        "    bob_public   = pow(g, bob_private, p)\n",
        "    # Shared secret\n",
        "    alice_shared = pow(bob_public, alice_private, p)\n",
        "    bob_shared   = pow(alice_public, bob_private, p)\n",
        "    return alice_shared == bob_shared  # Returns True if keys match\n",
        "\n",
        "# Multi-prime timing\n",
        "start = time.time()\n",
        "# Reuse multi-prime code from Module 3\n",
        "alice_private, alice_public = generate_keys(primes)\n",
        "bob_private, bob_public = generate_keys(primes)\n",
        "alice_shared = compute_shared_keys(alice_private, bob_public, primes)\n",
        "bob_shared   = compute_shared_keys(bob_private, alice_public, primes)\n",
        "alice_final_key = combine_shared_keys(alice_shared)\n",
        "bob_final_key   = combine_shared_keys(bob_shared)\n",
        "end = time.time()\n",
        "multi_time = end - start\n",
        "print(\"Multi-Prime DH Execution Time:\", multi_time, \"seconds\")\n",
        "\n",
        "# Single-prime timing\n",
        "total_bits = 512 * len(primes)  # Same total bits as multi-prime\n",
        "start = time.time()\n",
        "single_prime_dh(total_bits)\n",
        "end = time.time()\n",
        "single_time = end - start\n",
        "print(\"Single-Prime DH Execution Time:\", single_time, \"seconds\")\n"
      ]
    },
    {
      "cell_type": "markdown",
      "metadata": {
        "id": "xLG5WVvb7J41"
      },
      "source": [
        "**Plotting the Performance Comparison**\n",
        "\n",
        "This cell visualizes the execution time of the two methods using a bar chart for easier comparison."
      ]
    },
    {
      "cell_type": "code",
      "execution_count": null,
      "metadata": {
        "colab": {
          "base_uri": "https://localhost:8080/",
          "height": 468
        },
        "id": "9aEv_Q8kTvFs",
        "outputId": "189d69da-c627-41b1-d41a-9caa9b38ecf4"
      },
      "outputs": [
        {
          "data": {
            "image/png": "[encoded data removed]",
            "text/plain": [
              "<Figure size 800x500 with 1 Axes>"
            ]
          },
          "metadata": {},
          "output_type": "display_data"
        }
      ],
      "source": [
        "import matplotlib.pyplot as plt\n",
        "\n",
        "# Data\n",
        "methods = ['Multi-Prime DH', 'Single-Prime DH']\n",
        "times = [multi_time, single_time]\n",
        "\n",
        "# Plot\n",
        "plt.figure(figsize=(8,5))\n",
        "bars = plt.bar(methods, times, color=['skyblue', 'salmon'])\n",
        "plt.ylabel(\"Execution Time (seconds)\")\n",
        "plt.title(\"Performance Comparison: Multi-Prime vs Single-Prime DH\")\n",
        "\n",
        "# Add values on top of bars\n",
        "for bar in bars:\n",
        "    yval = bar.get_height()\n",
        "    plt.text(bar.get_x() + bar.get_width()/2, yval + 0.5, f\"{yval:.3f}\", ha='center', va='bottom')\n",
        "\n",
        "plt.show()\n"
      ]
    },
    {
      "cell_type": "markdown",
      "metadata": {
        "id": "e0UI-SV07Ncg"
      },
      "source": [
        "**Simulating Network Exchange**\n",
        "\n",
        "This cell simulates how Alice and Bob exchange public keys over a network and verifies that both sides compute the same final shared key."
      ]
    },
    {
      "cell_type": "code",
      "execution_count": null,
      "metadata": {
        "colab": {
          "base_uri": "https://localhost:8080/"
        },
        "id": "o2ZvhyOXUHC7",
        "outputId": "94bd131d-eb42-4034-cdf1-7546ad955822"
      },
      "outputs": [
        {
          "name": "stdout",
          "output_type": "stream",
          "text": [
            "Final Shared Key (Network Simulation):\n",
            "25a2e16fec3203b40cc0a22a2fa7833dba858762ba57c7b328c2181f4d284679\n",
            "Keys Match? : True\n"
          ]
        }
      ],
      "source": [
        "# Simulate network exchange\n",
        "def network_exchange(alice_pub, bob_pub):\n",
        "    # Normally, these would be sent over a network\n",
        "    alice_received = bob_pub\n",
        "    bob_received   = alice_pub\n",
        "    return alice_received, bob_received\n",
        "\n",
        "# Simulate exchange\n",
        "alice_received, bob_received = network_exchange(alice_public, bob_public)\n",
        "\n",
        "# Compute shared keys using received keys\n",
        "alice_shared_network = compute_shared_keys(alice_private, alice_received, primes)\n",
        "bob_shared_network   = compute_shared_keys(bob_private, bob_received, primes)\n",
        "\n",
        "# Combine to final shared secret\n",
        "alice_final_network = combine_shared_keys(alice_shared_network)\n",
        "bob_final_network   = combine_shared_keys(bob_shared_network)\n",
        "\n",
        "print(\"Final Shared Key (Network Simulation):\")\n",
        "print(alice_final_network)\n",
        "print(\"Keys Match? :\", alice_final_network == bob_final_network)\n"
      ]
    },
    {
      "cell_type": "markdown",
      "metadata": {
        "id": "Oq2xjS2J7Ry5"
      },
      "source": [
        "**Encrypt/Decrypt Message**\n",
        "\n",
        "This cell demonstrates how the shared key can be used to encrypt and decrypt a message using AES encryption."
      ]
    },
    {
      "cell_type": "code",
      "execution_count": null,
      "metadata": {
        "colab": {
          "base_uri": "https://localhost:8080/"
        },
        "id": "rxnzRwg1UMTK",
        "outputId": "5bce342b-1162-42c0-d17c-ba37d99bc4b4"
      },
      "outputs": [
        {
          "name": "stdout",
          "output_type": "stream",
          "text": [
            "Collecting pycryptodome\n",
            "  Downloading pycryptodome-3.23.0-cp37-abi3-manylinux_2_17_x86_64.manylinux2014_x86_64.whl.metadata (3.4 kB)\n",
            "Downloading pycryptodome-3.23.0-cp37-abi3-manylinux_2_17_x86_64.manylinux2014_x86_64.whl (2.3 MB)\n",
            "\u001b[2K   \u001b[90m━━━━━━━━━━━━━━━━━━━━━━━━━━━━━━━━━━━━━━━━\u001b[0m \u001b[32m2.3/2.3 MB\u001b[0m \u001b[31m15.1 MB/s\u001b[0m eta \u001b[36m0:00:00\u001b[0m\n",
            "\u001b[?25hInstalling collected packages: pycryptodome\n",
            "Successfully installed pycryptodome-3.23.0\n"
          ]
        }
      ],
      "source": [
        "!pip install pycryptodome\n"
      ]
    },
    {
      "cell_type": "code",
      "execution_count": null,
      "metadata": {
        "colab": {
          "base_uri": "https://localhost:8080/"
        },
        "id": "hGSsPbQxUNPv",
        "outputId": "b49963ed-2877-4481-853b-ae7a50d52172"
      },
      "outputs": [
        {
          "name": "stdout",
          "output_type": "stream",
          "text": [
            "Original Message: b'Hello, this is a secret message!'\n",
            "Decrypted Message: b'Hello, this is a secret message!'\n"
          ]
        }
      ],
      "source": [
        "from Crypto.Cipher import AES\n",
        "from Crypto.Util.Padding import pad, unpad\n",
        "import hashlib\n",
        "\n",
        "# Derive AES key from shared secret (use 32 bytes for AES-256)\n",
        "aes_key = hashlib.sha256(alice_final_network.encode()).digest()\n",
        "\n",
        "# Example message\n",
        "message = b\"Hello, this is a secret message!\"\n",
        "\n",
        "# Encrypt\n",
        "cipher = AES.new(aes_key, AES.MODE_CBC)\n",
        "ct_bytes = cipher.encrypt(pad(message, AES.block_size))\n",
        "iv = cipher.iv\n",
        "\n",
        "# Decrypt\n",
        "cipher_dec = AES.new(aes_key, AES.MODE_CBC, iv)\n",
        "pt = unpad(cipher_dec.decrypt(ct_bytes), AES.block_size)\n",
        "\n",
        "print(\"Original Message:\", message)\n",
        "print(\"Decrypted Message:\", pt)\n"
      ]
    },
    {
      "cell_type": "markdown",
      "metadata": {
        "id": "oiQN5I1W7v2y"
      },
      "source": [
        "**Install Graphviz**\n",
        "\n",
        "This cell installs graphviz to visualize the flow of the multi-prime Diffie-Hellman protocol."
      ]
    },
    {
      "cell_type": "code",
      "execution_count": null,
      "metadata": {
        "colab": {
          "base_uri": "https://localhost:8080/"
        },
        "id": "4bGPMeKpUcJr",
        "outputId": "5b85cdfd-f0a7-4c8a-e924-d6cbcf47b098"
      },
      "outputs": [
        {
          "name": "stdout",
          "output_type": "stream",
          "text": [
            "Reading package lists... Done\n",
            "Building dependency tree... Done\n",
            "Reading state information... Done\n",
            "graphviz is already the newest version (2.42.2-6ubuntu0.1).\n",
            "0 upgraded, 0 newly installed, 0 to remove and 35 not upgraded.\n",
            "Requirement already satisfied: graphviz in /usr/local/lib/python3.12/dist-packages (0.21)\n"
          ]
        }
      ],
      "source": [
        "!apt-get install graphviz\n",
        "!pip install graphviz\n"
      ]
    },
    {
      "cell_type": "markdown",
      "metadata": {
        "id": "o8JMDl3w71mt"
      },
      "source": [
        "**Create Flowchart Diagram**\n",
        "\n",
        "This cell creates and displays a flowchart that illustrates the stages of the multi-prime Diffie-Hellman process."
      ]
    },
    {
      "cell_type": "code",
      "execution_count": null,
      "metadata": {
        "colab": {
          "base_uri": "https://localhost:8080/",
          "height": 556
        },
        "id": "-u5NXthQUe3Y",
        "outputId": "f80ed874-bc19-422d-8490-d542eaf81501"
      },
      "outputs": [
        {
          "data": {
            "image/png": "[encoded data removed]",
            "text/plain": [
              "<IPython.core.display.Image object>"
            ]
          },
          "execution_count": 13,
          "metadata": {},
          "output_type": "execute_result"
        }
      ],
      "source": [
        "from graphviz import Digraph\n",
        "\n",
        "dot = Digraph(comment='Multi-Prime Diffie-Hellman')\n",
        "\n",
        "# Nodes\n",
        "dot.node('A', 'Prime Generation')\n",
        "dot.node('B', 'Key Generation (Alice & Bob)')\n",
        "dot.node('C', 'Network Exchange of Public Keys')\n",
        "dot.node('D', 'Compute Shared Keys')\n",
        "dot.node('E', 'Combine Keys to Final Secret')\n",
        "dot.node('F', 'Encrypt/Decrypt Message')\n",
        "\n",
        "# Edges\n",
        "dot.edges(['AB', 'BC', 'CD', 'DE', 'EF'])\n",
        "\n",
        "# Display the graph\n",
        "dot.render('multi_prime_dh_flowchart', format='png', cleanup=True)\n",
        "from IPython.display import Image\n",
        "Image('multi_prime_dh_flowchart.png')\n"
      ]
    },
    {
      "cell_type": "markdown",
      "metadata": {
        "id": "GNGvN0R875qq"
      },
      "source": [
        "**Install ipywidgets**\n",
        "\n",
        "This cell installs ipywidgets, which enables interactive UI elements in the notebook."
      ]
    },
    {
      "cell_type": "code",
      "execution_count": null,
      "metadata": {
        "colab": {
          "base_uri": "https://localhost:8080/"
        },
        "id": "mEmZA3c3Uh_3",
        "outputId": "afd6a53b-47d0-4fef-c392-4416fd603a20"
      },
      "outputs": [
        {
          "name": "stdout",
          "output_type": "stream",
          "text": [
            "Requirement already satisfied: ipywidgets in /usr/local/lib/python3.12/dist-packages (7.7.1)\n",
            "Requirement already satisfied: ipykernel>=4.5.1 in /usr/local/lib/python3.12/dist-packages (from ipywidgets) (6.17.1)\n",
            "Requirement already satisfied: ipython-genutils~=0.2.0 in /usr/local/lib/python3.12/dist-packages (from ipywidgets) (0.2.0)\n",
            "Requirement already satisfied: traitlets>=4.3.1 in /usr/local/lib/python3.12/dist-packages (from ipywidgets) (5.7.1)\n",
            "Requirement already satisfied: widgetsnbextension~=3.6.0 in /usr/local/lib/python3.12/dist-packages (from ipywidgets) (3.6.10)\n",
            "Requirement already satisfied: ipython>=4.0.0 in /usr/local/lib/python3.12/dist-packages (from ipywidgets) (7.34.0)\n",
            "Requirement already satisfied: jupyterlab-widgets>=1.0.0 in /usr/local/lib/python3.12/dist-packages (from ipywidgets) (3.0.15)\n",
            "Requirement already satisfied: debugpy>=1.0 in /usr/local/lib/python3.12/dist-packages (from ipykernel>=4.5.1->ipywidgets) (1.8.15)\n",
            "Requirement already satisfied: jupyter-client>=6.1.12 in /usr/local/lib/python3.12/dist-packages (from ipykernel>=4.5.1->ipywidgets) (7.4.9)\n",
            "Requirement already satisfied: matplotlib-inline>=0.1 in /usr/local/lib/python3.12/dist-packages (from ipykernel>=4.5.1->ipywidgets) (0.1.7)\n",
            "Requirement already satisfied: nest-asyncio in /usr/local/lib/python3.12/dist-packages (from ipykernel>=4.5.1->ipywidgets) (1.6.0)\n",
            "Requirement already satisfied: packaging in /usr/local/lib/python3.12/dist-packages (from ipykernel>=4.5.1->ipywidgets) (25.0)\n",
            "Requirement already satisfied: psutil in /usr/local/lib/python3.12/dist-packages (from ipykernel>=4.5.1->ipywidgets) (5.9.5)\n",
            "Requirement already satisfied: pyzmq>=17 in /usr/local/lib/python3.12/dist-packages (from ipykernel>=4.5.1->ipywidgets) (26.2.1)\n",
            "Requirement already satisfied: tornado>=6.1 in /usr/local/lib/python3.12/dist-packages (from ipykernel>=4.5.1->ipywidgets) (6.4.2)\n",
            "Requirement already satisfied: setuptools>=18.5 in /usr/local/lib/python3.12/dist-packages (from ipython>=4.0.0->ipywidgets) (75.2.0)\n",
            "Collecting jedi>=0.16 (from ipython>=4.0.0->ipywidgets)\n",
            "  Downloading jedi-0.19.2-py2.py3-none-any.whl.metadata (22 kB)\n",
            "Requirement already satisfied: decorator in /usr/local/lib/python3.12/dist-packages (from ipython>=4.0.0->ipywidgets) (4.4.2)\n",
            "Requirement already satisfied: pickleshare in /usr/local/lib/python3.12/dist-packages (from ipython>=4.0.0->ipywidgets) (0.7.5)\n",
            "Requirement already satisfied: prompt-toolkit!=3.0.0,!=3.0.1,<3.1.0,>=2.0.0 in /usr/local/lib/python3.12/dist-packages (from ipython>=4.0.0->ipywidgets) (3.0.52)\n",
            "Requirement already satisfied: pygments in /usr/local/lib/python3.12/dist-packages (from ipython>=4.0.0->ipywidgets) (2.19.2)\n",
            "Requirement already satisfied: backcall in /usr/local/lib/python3.12/dist-packages (from ipython>=4.0.0->ipywidgets) (0.2.0)\n",
            "Requirement already satisfied: pexpect>4.3 in /usr/local/lib/python3.12/dist-packages (from ipython>=4.0.0->ipywidgets) (4.9.0)\n",
            "Requirement already satisfied: notebook>=4.4.1 in /usr/local/lib/python3.12/dist-packages (from widgetsnbextension~=3.6.0->ipywidgets) (6.5.7)\n",
            "Requirement already satisfied: parso<0.9.0,>=0.8.4 in /usr/local/lib/python3.12/dist-packages (from jedi>=0.16->ipython>=4.0.0->ipywidgets) (0.8.5)\n",
            "Requirement already satisfied: entrypoints in /usr/local/lib/python3.12/dist-packages (from jupyter-client>=6.1.12->ipykernel>=4.5.1->ipywidgets) (0.4)\n",
            "Requirement already satisfied: jupyter-core>=4.9.2 in /usr/local/lib/python3.12/dist-packages (from jupyter-client>=6.1.12->ipykernel>=4.5.1->ipywidgets) (5.8.1)\n",
            "Requirement already satisfied: python-dateutil>=2.8.2 in /usr/local/lib/python3.12/dist-packages (from jupyter-client>=6.1.12->ipykernel>=4.5.1->ipywidgets) (2.9.0.post0)\n",
            "Requirement already satisfied: jinja2 in /usr/local/lib/python3.12/dist-packages (from notebook>=4.4.1->widgetsnbextension~=3.6.0->ipywidgets) (3.1.6)\n",
            "Requirement already satisfied: argon2-cffi in /usr/local/lib/python3.12/dist-packages (from notebook>=4.4.1->widgetsnbextension~=3.6.0->ipywidgets) (25.1.0)\n",
            "Requirement already satisfied: nbformat in /usr/local/lib/python3.12/dist-packages (from notebook>=4.4.1->widgetsnbextension~=3.6.0->ipywidgets) (5.10.4)\n",
            "Requirement already satisfied: nbconvert>=5 in /usr/local/lib/python3.12/dist-packages (from notebook>=4.4.1->widgetsnbextension~=3.6.0->ipywidgets) (7.16.6)\n",
            "Requirement already satisfied: Send2Trash>=1.8.0 in /usr/local/lib/python3.12/dist-packages (from notebook>=4.4.1->widgetsnbextension~=3.6.0->ipywidgets) (1.8.3)\n",
            "Requirement already satisfied: terminado>=0.8.3 in /usr/local/lib/python3.12/dist-packages (from notebook>=4.4.1->widgetsnbextension~=3.6.0->ipywidgets) (0.18.1)\n",
            "Requirement already satisfied: prometheus-client in /usr/local/lib/python3.12/dist-packages (from notebook>=4.4.1->widgetsnbextension~=3.6.0->ipywidgets) (0.22.1)\n",
            "Requirement already satisfied: nbclassic>=0.4.7 in /usr/local/lib/python3.12/dist-packages (from notebook>=4.4.1->widgetsnbextension~=3.6.0->ipywidgets) (1.3.2)\n",
            "Requirement already satisfied: ptyprocess>=0.5 in /usr/local/lib/python3.12/dist-packages (from pexpect>4.3->ipython>=4.0.0->ipywidgets) (0.7.0)\n",
            "Requirement already satisfied: wcwidth in /usr/local/lib/python3.12/dist-packages (from prompt-toolkit!=3.0.0,!=3.0.1,<3.1.0,>=2.0.0->ipython>=4.0.0->ipywidgets) (0.2.13)\n",
            "Requirement already satisfied: platformdirs>=2.5 in /usr/local/lib/python3.12/dist-packages (from jupyter-core>=4.9.2->jupyter-client>=6.1.12->ipykernel>=4.5.1->ipywidgets) (4.4.0)\n",
            "Requirement already satisfied: notebook-shim>=0.2.3 in /usr/local/lib/python3.12/dist-packages (from nbclassic>=0.4.7->notebook>=4.4.1->widgetsnbextension~=3.6.0->ipywidgets) (0.2.4)\n",
            "Requirement already satisfied: beautifulsoup4 in /usr/local/lib/python3.12/dist-packages (from nbconvert>=5->notebook>=4.4.1->widgetsnbextension~=3.6.0->ipywidgets) (4.13.5)\n",
            "Requirement already satisfied: bleach!=5.0.0 in /usr/local/lib/python3.12/dist-packages (from bleach[css]!=5.0.0->nbconvert>=5->notebook>=4.4.1->widgetsnbextension~=3.6.0->ipywidgets) (6.2.0)\n",
            "Requirement already satisfied: defusedxml in /usr/local/lib/python3.12/dist-packages (from nbconvert>=5->notebook>=4.4.1->widgetsnbextension~=3.6.0->ipywidgets) (0.7.1)\n",
            "Requirement already satisfied: jupyterlab-pygments in /usr/local/lib/python3.12/dist-packages (from nbconvert>=5->notebook>=4.4.1->widgetsnbextension~=3.6.0->ipywidgets) (0.3.0)\n",
            "Requirement already satisfied: markupsafe>=2.0 in /usr/local/lib/python3.12/dist-packages (from nbconvert>=5->notebook>=4.4.1->widgetsnbextension~=3.6.0->ipywidgets) (3.0.2)\n",
            "Requirement already satisfied: mistune<4,>=2.0.3 in /usr/local/lib/python3.12/dist-packages (from nbconvert>=5->notebook>=4.4.1->widgetsnbextension~=3.6.0->ipywidgets) (3.1.4)\n",
            "Requirement already satisfied: nbclient>=0.5.0 in /usr/local/lib/python3.12/dist-packages (from nbconvert>=5->notebook>=4.4.1->widgetsnbextension~=3.6.0->ipywidgets) (0.10.2)\n",
            "Requirement already satisfied: pandocfilters>=1.4.1 in /usr/local/lib/python3.12/dist-packages (from nbconvert>=5->notebook>=4.4.1->widgetsnbextension~=3.6.0->ipywidgets) (1.5.1)\n",
            "Requirement already satisfied: fastjsonschema>=2.15 in /usr/local/lib/python3.12/dist-packages (from nbformat->notebook>=4.4.1->widgetsnbextension~=3.6.0->ipywidgets) (2.21.2)\n",
            "Requirement already satisfied: jsonschema>=2.6 in /usr/local/lib/python3.12/dist-packages (from nbformat->notebook>=4.4.1->widgetsnbextension~=3.6.0->ipywidgets) (4.25.1)\n",
            "Requirement already satisfied: six>=1.5 in /usr/local/lib/python3.12/dist-packages (from python-dateutil>=2.8.2->jupyter-client>=6.1.12->ipykernel>=4.5.1->ipywidgets) (1.17.0)\n",
            "Requirement already satisfied: argon2-cffi-bindings in /usr/local/lib/python3.12/dist-packages (from argon2-cffi->notebook>=4.4.1->widgetsnbextension~=3.6.0->ipywidgets) (25.1.0)\n",
            "Requirement already satisfied: webencodings in /usr/local/lib/python3.12/dist-packages (from bleach!=5.0.0->bleach[css]!=5.0.0->nbconvert>=5->notebook>=4.4.1->widgetsnbextension~=3.6.0->ipywidgets) (0.5.1)\n",
            "Requirement already satisfied: tinycss2<1.5,>=1.1.0 in /usr/local/lib/python3.12/dist-packages (from bleach[css]!=5.0.0->nbconvert>=5->notebook>=4.4.1->widgetsnbextension~=3.6.0->ipywidgets) (1.4.0)\n",
            "Requirement already satisfied: attrs>=22.2.0 in /usr/local/lib/python3.12/dist-packages (from jsonschema>=2.6->nbformat->notebook>=4.4.1->widgetsnbextension~=3.6.0->ipywidgets) (25.3.0)\n",
            "Requirement already satisfied: jsonschema-specifications>=2023.03.6 in /usr/local/lib/python3.12/dist-packages (from jsonschema>=2.6->nbformat->notebook>=4.4.1->widgetsnbextension~=3.6.0->ipywidgets) (2025.4.1)\n",
            "Requirement already satisfied: referencing>=0.28.4 in /usr/local/lib/python3.12/dist-packages (from jsonschema>=2.6->nbformat->notebook>=4.4.1->widgetsnbextension~=3.6.0->ipywidgets) (0.36.2)\n",
            "Requirement already satisfied: rpds-py>=0.7.1 in /usr/local/lib/python3.12/dist-packages (from jsonschema>=2.6->nbformat->notebook>=4.4.1->widgetsnbextension~=3.6.0->ipywidgets) (0.27.1)\n",
            "Requirement already satisfied: jupyter-server<3,>=1.8 in /usr/local/lib/python3.12/dist-packages (from notebook-shim>=0.2.3->nbclassic>=0.4.7->notebook>=4.4.1->widgetsnbextension~=3.6.0->ipywidgets) (2.14.0)\n",
            "Requirement already satisfied: cffi>=1.0.1 in /usr/local/lib/python3.12/dist-packages (from argon2-cffi-bindings->argon2-cffi->notebook>=4.4.1->widgetsnbextension~=3.6.0->ipywidgets) (1.17.1)\n",
            "Requirement already satisfied: soupsieve>1.2 in /usr/local/lib/python3.12/dist-packages (from beautifulsoup4->nbconvert>=5->notebook>=4.4.1->widgetsnbextension~=3.6.0->ipywidgets) (2.8)\n",
            "Requirement already satisfied: typing-extensions>=4.0.0 in /usr/local/lib/python3.12/dist-packages (from beautifulsoup4->nbconvert>=5->notebook>=4.4.1->widgetsnbextension~=3.6.0->ipywidgets) (4.15.0)\n",
            "Requirement already satisfied: pycparser in /usr/local/lib/python3.12/dist-packages (from cffi>=1.0.1->argon2-cffi-bindings->argon2-cffi->notebook>=4.4.1->widgetsnbextension~=3.6.0->ipywidgets) (2.22)\n",
            "Requirement already satisfied: anyio>=3.1.0 in /usr/local/lib/python3.12/dist-packages (from jupyter-server<3,>=1.8->notebook-shim>=0.2.3->nbclassic>=0.4.7->notebook>=4.4.1->widgetsnbextension~=3.6.0->ipywidgets) (4.10.0)\n",
            "Requirement already satisfied: jupyter-events>=0.9.0 in /usr/local/lib/python3.12/dist-packages (from jupyter-server<3,>=1.8->notebook-shim>=0.2.3->nbclassic>=0.4.7->notebook>=4.4.1->widgetsnbextension~=3.6.0->ipywidgets) (0.12.0)\n",
            "Requirement already satisfied: jupyter-server-terminals>=0.4.4 in /usr/local/lib/python3.12/dist-packages (from jupyter-server<3,>=1.8->notebook-shim>=0.2.3->nbclassic>=0.4.7->notebook>=4.4.1->widgetsnbextension~=3.6.0->ipywidgets) (0.5.3)\n",
            "Requirement already satisfied: overrides>=5.0 in /usr/local/lib/python3.12/dist-packages (from jupyter-server<3,>=1.8->notebook-shim>=0.2.3->nbclassic>=0.4.7->notebook>=4.4.1->widgetsnbextension~=3.6.0->ipywidgets) (7.7.0)\n",
            "Requirement already satisfied: websocket-client>=1.7 in /usr/local/lib/python3.12/dist-packages (from jupyter-server<3,>=1.8->notebook-shim>=0.2.3->nbclassic>=0.4.7->notebook>=4.4.1->widgetsnbextension~=3.6.0->ipywidgets) (1.8.0)\n",
            "Requirement already satisfied: idna>=2.8 in /usr/local/lib/python3.12/dist-packages (from anyio>=3.1.0->jupyter-server<3,>=1.8->notebook-shim>=0.2.3->nbclassic>=0.4.7->notebook>=4.4.1->widgetsnbextension~=3.6.0->ipywidgets) (3.10)\n",
            "Requirement already satisfied: sniffio>=1.1 in /usr/local/lib/python3.12/dist-packages (from anyio>=3.1.0->jupyter-server<3,>=1.8->notebook-shim>=0.2.3->nbclassic>=0.4.7->notebook>=4.4.1->widgetsnbextension~=3.6.0->ipywidgets) (1.3.1)\n",
            "Requirement already satisfied: python-json-logger>=2.0.4 in /usr/local/lib/python3.12/dist-packages (from jupyter-events>=0.9.0->jupyter-server<3,>=1.8->notebook-shim>=0.2.3->nbclassic>=0.4.7->notebook>=4.4.1->widgetsnbextension~=3.6.0->ipywidgets) (3.3.0)\n",
            "Requirement already satisfied: pyyaml>=5.3 in /usr/local/lib/python3.12/dist-packages (from jupyter-events>=0.9.0->jupyter-server<3,>=1.8->notebook-shim>=0.2.3->nbclassic>=0.4.7->notebook>=4.4.1->widgetsnbextension~=3.6.0->ipywidgets) (6.0.2)\n",
            "Requirement already satisfied: rfc3339-validator in /usr/local/lib/python3.12/dist-packages (from jupyter-events>=0.9.0->jupyter-server<3,>=1.8->notebook-shim>=0.2.3->nbclassic>=0.4.7->notebook>=4.4.1->widgetsnbextension~=3.6.0->ipywidgets) (0.1.4)\n",
            "Requirement already satisfied: rfc3986-validator>=0.1.1 in /usr/local/lib/python3.12/dist-packages (from jupyter-events>=0.9.0->jupyter-server<3,>=1.8->notebook-shim>=0.2.3->nbclassic>=0.4.7->notebook>=4.4.1->widgetsnbextension~=3.6.0->ipywidgets) (0.1.1)\n",
            "Requirement already satisfied: fqdn in /usr/local/lib/python3.12/dist-packages (from jsonschema[format-nongpl]>=4.18.0->jupyter-events>=0.9.0->jupyter-server<3,>=1.8->notebook-shim>=0.2.3->nbclassic>=0.4.7->notebook>=4.4.1->widgetsnbextension~=3.6.0->ipywidgets) (1.5.1)\n",
            "Requirement already satisfied: isoduration in /usr/local/lib/python3.12/dist-packages (from jsonschema[format-nongpl]>=4.18.0->jupyter-events>=0.9.0->jupyter-server<3,>=1.8->notebook-shim>=0.2.3->nbclassic>=0.4.7->notebook>=4.4.1->widgetsnbextension~=3.6.0->ipywidgets) (20.11.0)\n",
            "Requirement already satisfied: jsonpointer>1.13 in /usr/local/lib/python3.12/dist-packages (from jsonschema[format-nongpl]>=4.18.0->jupyter-events>=0.9.0->jupyter-server<3,>=1.8->notebook-shim>=0.2.3->nbclassic>=0.4.7->notebook>=4.4.1->widgetsnbextension~=3.6.0->ipywidgets) (3.0.0)\n",
            "Requirement already satisfied: rfc3987-syntax>=1.1.0 in /usr/local/lib/python3.12/dist-packages (from jsonschema[format-nongpl]>=4.18.0->jupyter-events>=0.9.0->jupyter-server<3,>=1.8->notebook-shim>=0.2.3->nbclassic>=0.4.7->notebook>=4.4.1->widgetsnbextension~=3.6.0->ipywidgets) (1.1.0)\n",
            "Requirement already satisfied: uri-template in /usr/local/lib/python3.12/dist-packages (from jsonschema[format-nongpl]>=4.18.0->jupyter-events>=0.9.0->jupyter-server<3,>=1.8->notebook-shim>=0.2.3->nbclassic>=0.4.7->notebook>=4.4.1->widgetsnbextension~=3.6.0->ipywidgets) (1.3.0)\n",
            "Requirement already satisfied: webcolors>=24.6.0 in /usr/local/lib/python3.12/dist-packages (from jsonschema[format-nongpl]>=4.18.0->jupyter-events>=0.9.0->jupyter-server<3,>=1.8->notebook-shim>=0.2.3->nbclassic>=0.4.7->notebook>=4.4.1->widgetsnbextension~=3.6.0->ipywidgets) (24.11.1)\n",
            "Requirement already satisfied: lark>=1.2.2 in /usr/local/lib/python3.12/dist-packages (from rfc3987-syntax>=1.1.0->jsonschema[format-nongpl]>=4.18.0->jupyter-events>=0.9.0->jupyter-server<3,>=1.8->notebook-shim>=0.2.3->nbclassic>=0.4.7->notebook>=4.4.1->widgetsnbextension~=3.6.0->ipywidgets) (1.2.2)\n",
            "Requirement already satisfied: arrow>=0.15.0 in /usr/local/lib/python3.12/dist-packages (from isoduration->jsonschema[format-nongpl]>=4.18.0->jupyter-events>=0.9.0->jupyter-server<3,>=1.8->notebook-shim>=0.2.3->nbclassic>=0.4.7->notebook>=4.4.1->widgetsnbextension~=3.6.0->ipywidgets) (1.3.0)\n",
            "Requirement already satisfied: types-python-dateutil>=2.8.10 in /usr/local/lib/python3.12/dist-packages (from arrow>=0.15.0->isoduration->jsonschema[format-nongpl]>=4.18.0->jupyter-events>=0.9.0->jupyter-server<3,>=1.8->notebook-shim>=0.2.3->nbclassic>=0.4.7->notebook>=4.4.1->widgetsnbextension~=3.6.0->ipywidgets) (2.9.0.20250822)\n",
            "Downloading jedi-0.19.2-py2.py3-none-any.whl (1.6 MB)\n",
            "\u001b[2K   \u001b[90m━━━━━━━━━━━━━━━━━━━━━━━━━━━━━━━━━━━━━━━━\u001b[0m \u001b[32m1.6/1.6 MB\u001b[0m \u001b[31m10.2 MB/s\u001b[0m eta \u001b[36m0:00:00\u001b[0m\n",
            "\u001b[?25hInstalling collected packages: jedi\n",
            "Successfully installed jedi-0.19.2\n"
          ]
        }
      ],
      "source": [
        "!pip install ipywidgets\n"
      ]
    },
    {
      "cell_type": "markdown",
      "metadata": {
        "id": "kg-zsHc779-t"
      },
      "source": [
        "**Interactive Demo Setup**\n",
        "\n",
        "This cell defines a fully functional interactive demo where the user can select the number of primes and a message, and view the computed shared key, encrypted message, decrypted message, and whether the keys match."
      ]
    },
    {
      "cell_type": "code",
      "execution_count": null,
      "metadata": {
        "colab": {
          "base_uri": "https://localhost:8080/",
          "height": 203,
          "referenced_widgets": [
            "2fd038258a9e46f3a6f45f7293d542c3",
            "4e0f53e714e640a08085f1c1551ae111",
            "4c0081b7b41c4af9b25dc175b45e663c",
            "b1d49e37053b490698ff0a49958c0218",
            "ee565dc0d7ba47feaac9647177dbcfe6",
            "e54733b2243e4fcfbc91652523d8b0d7",
            "5f937d15435d40a1acb9b969b31fc81a",
            "c50eefd709d74f54a7b2d18ba153d6ba",
            "13a98a6cca8b4d779663d5be941def8f",
            "f1026fb997684f08bac9477b7bd42da3"
          ]
        },
        "id": "Z4Ut1sbMUkZt",
        "outputId": "88bba291-7af3-40c6-b2ff-5c342ae41d3f"
      },
      "outputs": [
        {
          "data": {
            "application/vnd.jupyter.widget-view+json": {
              "model_id": "2fd038258a9e46f3a6f45f7293d542c3",
              "version_major": 2,
              "version_minor": 0
            },
            "text/plain": [
              "VBox(children=(IntSlider(value=3, description='Primes:', max=15, min=2), Text(value='Hello, World!', descripti…"
            ]
          },
          "metadata": {},
          "output_type": "display_data"
        },
        {
          "data": {
            "application/vnd.jupyter.widget-view+json": {
              "model_id": "13a98a6cca8b4d779663d5be941def8f",
              "version_major": 2,
              "version_minor": 0
            },
            "text/plain": [
              "Output()"
            ]
          },
          "metadata": {},
          "output_type": "display_data"
        }
      ],
      "source": [
        "import ipywidgets as widgets\n",
        "from IPython.display import display\n",
        "import hashlib\n",
        "from Crypto.Cipher import AES\n",
        "from Crypto.Util.Padding import pad, unpad\n",
        "import secrets\n",
        "\n",
        "# Fixed interactive function\n",
        "def interactive_demo_fixed(num_primes, message):\n",
        "    # Generate primes\n",
        "    primes = generate_primes(num_primes, 128)  # smaller primes for fast demo\n",
        "\n",
        "    # Generate keys for Alice and Bob\n",
        "    alice_private, alice_public = generate_keys(primes)\n",
        "    bob_private, bob_public     = generate_keys(primes)\n",
        "\n",
        "    # Compute shared keys correctly\n",
        "    alice_shared = compute_shared_keys(alice_private, bob_public, primes)\n",
        "    bob_shared   = compute_shared_keys(bob_private, alice_public, primes)\n",
        "\n",
        "    # Combine to final shared secret\n",
        "    alice_final = combine_shared_keys(alice_shared)\n",
        "    bob_final   = combine_shared_keys(bob_shared)\n",
        "\n",
        "    # AES encryption\n",
        "    aes_key = hashlib.sha256(alice_final.encode()).digest()\n",
        "    cipher = AES.new(aes_key, AES.MODE_CBC)\n",
        "    ct_bytes = cipher.encrypt(pad(message.encode(), AES.block_size))\n",
        "    cipher_dec = AES.new(aes_key, AES.MODE_CBC, cipher.iv)\n",
        "    pt = unpad(cipher_dec.decrypt(ct_bytes), AES.block_size)\n",
        "\n",
        "    # Print outputs\n",
        "    print(\"=====================================\")\n",
        "    print(f\"Number of Primes: {num_primes}\")\n",
        "    print(f\"Final Shared Key: {alice_final}\")\n",
        "    print(f\"Encrypted Message (hex): {ct_bytes.hex()}\")\n",
        "    print(f\"Decrypted Message: {pt.decode()}\")\n",
        "    print(\"Keys Match? :\", alice_final == bob_final)\n",
        "    print(\"=====================================\")\n",
        "\n",
        "\n",
        "display(ui, out)\n"
      ]
    },
    {
      "cell_type": "code",
      "execution_count": 1,
      "metadata": {
        "colab": {
          "base_uri": "https://localhost:8080/"
        },
        "id": "F7GjOVf-98W9",
        "outputId": "d81351cf-ed85-489e-872f-dcffb9193937"
      },
      "outputs": [
        {
          "name": "stdout",
          "output_type": "stream",
          "text": [
            "Disabling notebook extension jupyter-js-widgets/extension...\n",
            "      - Validating: \u001b[32mOK\u001b[0m\n"
          ]
        }
      ],
      "source": [
        "!jupyter nbextension disable --py widgetsnbextension\n"
      ]
    }
  ],
  "metadata": {
    "colab": {
      "provenance": []
    },
    "kernelspec": {
      "display_name": "Python 3",
      "name": "python3"
    },
    "language_info": {
      "name": "python"
    },
    "widgets": {
      "application/vnd.jupyter.widget-state+json": {
        "13a98a6cca8b4d779663d5be941def8f": {
          "model_module": "@jupyter-widgets/output",
          "model_module_version": "1.0.0",
          "model_name": "OutputModel",
          "state": {
            "_dom_classes": [],
            "_model_module": "@jupyter-widgets/output",
            "_model_module_version": "1.0.0",
            "_model_name": "OutputModel",
            "_view_count": null,
            "_view_module": "@jupyter-widgets/output",
            "_view_module_version": "1.0.0",
            "_view_name": "OutputView",
            "layout": "IPY_MODEL_f1026fb997684f08bac9477b7bd42da3",
            "msg_id": "",
            "outputs": [
              {
                "name": "stdout",
                "output_type": "stream",
                "text": [
                  "=====================================\n",
                  "Number of Primes: 2\n",
                  "Final Shared Key: 8e08fd3843155263dc6f9d96277e8bcd544c3e0d2c7088e25c58438b777b3b30\n",
                  "Encrypted Message (hex): 9532a30fb24fefc2f29931195a6d3fed\n",
                  "Decrypted Message: Hello, World!\n",
                  "Keys Match? : True\n",
                  "=====================================\n"
                ]
              }
            ]
          }
        },
        "2fd038258a9e46f3a6f45f7293d542c3": {
          "model_module": "@jupyter-widgets/controls",
          "model_module_version": "1.5.0",
          "model_name": "VBoxModel",
          "state": {
            "_dom_classes": [],
            "_model_module": "@jupyter-widgets/controls",
            "_model_module_version": "1.5.0",
            "_model_name": "VBoxModel",
            "_view_count": null,
            "_view_module": "@jupyter-widgets/controls",
            "_view_module_version": "1.5.0",
            "_view_name": "VBoxView",
            "box_style": "",
            "children": [
              "IPY_MODEL_4e0f53e714e640a08085f1c1551ae111",
              "IPY_MODEL_4c0081b7b41c4af9b25dc175b45e663c"
            ],
            "layout": "IPY_MODEL_b1d49e37053b490698ff0a49958c0218"
          }
        },
        "4c0081b7b41c4af9b25dc175b45e663c": {
          "model_module": "@jupyter-widgets/controls",
          "model_module_version": "1.5.0",
          "model_name": "TextModel",
          "state": {
            "_dom_classes": [],
            "_model_module": "@jupyter-widgets/controls",
            "_model_module_version": "1.5.0",
            "_model_name": "TextModel",
            "_view_count": null,
            "_view_module": "@jupyter-widgets/controls",
            "_view_module_version": "1.5.0",
            "_view_name": "TextView",
            "continuous_update": true,
            "description": "Message:",
            "description_tooltip": null,
            "disabled": false,
            "layout": "IPY_MODEL_5f937d15435d40a1acb9b969b31fc81a",
            "placeholder": "​",
            "style": "IPY_MODEL_c50eefd709d74f54a7b2d18ba153d6ba",
            "value": "Hello, World!"
          }
        },
        "4e0f53e714e640a08085f1c1551ae111": {
          "model_module": "@jupyter-widgets/controls",
          "model_module_version": "1.5.0",
          "model_name": "IntSliderModel",
          "state": {
            "_dom_classes": [],
            "_model_module": "@jupyter-widgets/controls",
            "_model_module_version": "1.5.0",
            "_model_name": "IntSliderModel",
            "_view_count": null,
            "_view_module": "@jupyter-widgets/controls",
            "_view_module_version": "1.5.0",
            "_view_name": "IntSliderView",
            "continuous_update": true,
            "description": "Primes:",
            "description_tooltip": null,
            "disabled": false,
            "layout": "IPY_MODEL_ee565dc0d7ba47feaac9647177dbcfe6",
            "max": 15,
            "min": 2,
            "orientation": "horizontal",
            "readout": true,
            "readout_format": "d",
            "step": 1,
            "style": "IPY_MODEL_e54733b2243e4fcfbc91652523d8b0d7",
            "value": 2
          }
        },
        "5f937d15435d40a1acb9b969b31fc81a": {
          "model_module": "@jupyter-widgets/base",
          "model_module_version": "1.2.0",
          "model_name": "LayoutModel",
          "state": {
            "_model_module": "@jupyter-widgets/base",
            "_model_module_version": "1.2.0",
            "_model_name": "LayoutModel",
            "_view_count": null,
            "_view_module": "@jupyter-widgets/base",
            "_view_module_version": "1.2.0",
            "_view_name": "LayoutView",
            "align_content": null,
            "align_items": null,
            "align_self": null,
            "border": null,
            "bottom": null,
            "display": null,
            "flex": null,
            "flex_flow": null,
            "grid_area": null,
            "grid_auto_columns": null,
            "grid_auto_flow": null,
            "grid_auto_rows": null,
            "grid_column": null,
            "grid_gap": null,
            "grid_row": null,
            "grid_template_areas": null,
            "grid_template_columns": null,
            "grid_template_rows": null,
            "height": null,
            "justify_content": null,
            "justify_items": null,
            "left": null,
            "margin": null,
            "max_height": null,
            "max_width": null,
            "min_height": null,
            "min_width": null,
            "object_fit": null,
            "object_position": null,
            "order": null,
            "overflow": null,
            "overflow_x": null,
            "overflow_y": null,
            "padding": null,
            "right": null,
            "top": null,
            "visibility": null,
            "width": null
          }
        },
        "b1d49e37053b490698ff0a49958c0218": {
          "model_module": "@jupyter-widgets/base",
          "model_module_version": "1.2.0",
          "model_name": "LayoutModel",
          "state": {
            "_model_module": "@jupyter-widgets/base",
            "_model_module_version": "1.2.0",
            "_model_name": "LayoutModel",
            "_view_count": null,
            "_view_module": "@jupyter-widgets/base",
            "_view_module_version": "1.2.0",
            "_view_name": "LayoutView",
            "align_content": null,
            "align_items": null,
            "align_self": null,
            "border": null,
            "bottom": null,
            "display": null,
            "flex": null,
            "flex_flow": null,
            "grid_area": null,
            "grid_auto_columns": null,
            "grid_auto_flow": null,
            "grid_auto_rows": null,
            "grid_column": null,
            "grid_gap": null,
            "grid_row": null,
            "grid_template_areas": null,
            "grid_template_columns": null,
            "grid_template_rows": null,
            "height": null,
            "justify_content": null,
            "justify_items": null,
            "left": null,
            "margin": null,
            "max_height": null,
            "max_width": null,
            "min_height": null,
            "min_width": null,
            "object_fit": null,
            "object_position": null,
            "order": null,
            "overflow": null,
            "overflow_x": null,
            "overflow_y": null,
            "padding": null,
            "right": null,
            "top": null,
            "visibility": null,
            "width": null
          }
        },
        "c50eefd709d74f54a7b2d18ba153d6ba": {
          "model_module": "@jupyter-widgets/controls",
          "model_module_version": "1.5.0",
          "model_name": "DescriptionStyleModel",
          "state": {
            "_model_module": "@jupyter-widgets/controls",
            "_model_module_version": "1.5.0",
            "_model_name": "DescriptionStyleModel",
            "_view_count": null,
            "_view_module": "@jupyter-widgets/base",
            "_view_module_version": "1.2.0",
            "_view_name": "StyleView",
            "description_width": ""
          }
        },
        "e54733b2243e4fcfbc91652523d8b0d7": {
          "model_module": "@jupyter-widgets/controls",
          "model_module_version": "1.5.0",
          "model_name": "SliderStyleModel",
          "state": {
            "_model_module": "@jupyter-widgets/controls",
            "_model_module_version": "1.5.0",
            "_model_name": "SliderStyleModel",
            "_view_count": null,
            "_view_module": "@jupyter-widgets/base",
            "_view_module_version": "1.2.0",
            "_view_name": "StyleView",
            "description_width": "",
            "handle_color": null
          }
        },
        "ee565dc0d7ba47feaac9647177dbcfe6": {
          "model_module": "@jupyter-widgets/base",
          "model_module_version": "1.2.0",
          "model_name": "LayoutModel",
          "state": {
            "_model_module": "@jupyter-widgets/base",
            "_model_module_version": "1.2.0",
            "_model_name": "LayoutModel",
            "_view_count": null,
            "_view_module": "@jupyter-widgets/base",
            "_view_module_version": "1.2.0",
            "_view_name": "LayoutView",
            "align_content": null,
            "align_items": null,
            "align_self": null,
            "border": null,
            "bottom": null,
            "display": null,
            "flex": null,
            "flex_flow": null,
            "grid_area": null,
            "grid_auto_columns": null,
            "grid_auto_flow": null,
            "grid_auto_rows": null,
            "grid_column": null,
            "grid_gap": null,
            "grid_row": null,
            "grid_template_areas": null,
            "grid_template_columns": null,
            "grid_template_rows": null,
            "height": null,
            "justify_content": null,
            "justify_items": null,
            "left": null,
            "margin": null,
            "max_height": null,
            "max_width": null,
            "min_height": null,
            "min_width": null,
            "object_fit": null,
            "object_position": null,
            "order": null,
            "overflow": null,
            "overflow_x": null,
            "overflow_y": null,
            "padding": null,
            "right": null,
            "top": null,
            "visibility": null,
            "width": null
          }
        },
        "f1026fb997684f08bac9477b7bd42da3": {
          "model_module": "@jupyter-widgets/base",
          "model_module_version": "1.2.0",
          "model_name": "LayoutModel",
          "state": {
            "_model_module": "@jupyter-widgets/base",
            "_model_module_version": "1.2.0",
            "_model_name": "LayoutModel",
            "_view_count": null,
            "_view_module": "@jupyter-widgets/base",
            "_view_module_version": "1.2.0",
            "_view_name": "LayoutView",
            "align_content": null,
            "align_items": null,
            "align_self": null,
            "border": null,
            "bottom": null,
            "display": null,
            "flex": null,
            "flex_flow": null,
            "grid_area": null,
            "grid_auto_columns": null,
            "grid_auto_flow": null,
            "grid_auto_rows": null,
            "grid_column": null,
            "grid_gap": null,
            "grid_row": null,
            "grid_template_areas": null,
            "grid_template_columns": null,
            "grid_template_rows": null,
            "height": null,
            "justify_content": null,
            "justify_items": null,
            "left": null,
            "margin": null,
            "max_height": null,
            "max_width": null,
            "min_height": null,
            "min_width": null,
            "object_fit": null,
            "object_position": null,
            "order": null,
            "overflow": null,
            "overflow_x": null,
            "overflow_y": null,
            "padding": null,
            "right": null,
            "top": null,
            "visibility": null,
            "width": null
          }
        }
      }
    }
  },
  "nbformat": 4,
  "nbformat_minor": 0
}
